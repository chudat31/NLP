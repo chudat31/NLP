{
 "cells": [
  {
   "cell_type": "code",
   "execution_count": 2,
   "metadata": {},
   "outputs": [],
   "source": [
    "# from sklearn.feature_extraction.text import CountVectorizer;\n",
    "# from nltk.corpus import stopwords;\n",
    "# import spacy;"
   ]
  },
  {
   "cell_type": "code",
   "execution_count": 4,
   "metadata": {},
   "outputs": [
    {
     "name": "stdout",
     "output_type": "stream",
     "text": [
      "Xác suất của câu 'chỉ toàn đọc slide lý thuyết chứ không thật sự giảng dạy và không dạy phần bài tập cho sinh viên . cách giảng dạy của giáo viên .' là: 5.371644133645044e-21\n",
      "Thời gian thực hiện: 0.0 giây\n"
     ]
    }
   ],
   "source": [
    "import re\n",
    "import collections\n",
    "import math\n",
    "import time\n",
    "\n",
    "\n",
    "def load_data(file_path):\n",
    "    with open(file_path, 'rb', encoding='utf-8') as file:\n",
    "        sentences = file.read().splitlines()\n",
    "    return sentences\n",
    "\n",
    "\n",
    "def build_ngram_model(sentences, n=3):\n",
    "    ngram_model = collections.defaultdict(lambda: collections.defaultdict(int))\n",
    "\n",
    "    for sentence in sentences:\n",
    "        tokens = re.findall(r'\\b\\w+\\b', sentence.lower())\n",
    "        for i in range(len(tokens) - n + 1):\n",
    "            ngram = tuple(tokens[i:i + n - 1])\n",
    "            next_word = tokens[i + n - 1]\n",
    "            ngram_model[ngram][next_word] += 1\n",
    "\n",
    "    return ngram_model\n",
    "def calculate_sentence_probability(sentence, ngram_model, n=3, alpha=1.0):\n",
    "    tokens = re.findall(r'\\b\\w+\\b', sentence.lower())\n",
    "    probability = 1.0\n",
    "\n",
    "    for i in range(len(tokens) - n + 1):\n",
    "        ngram = tuple(tokens[i:i + n - 1])\n",
    "        next_word = tokens[i + n - 1]\n",
    "\n",
    "        total_count = sum(ngram_model[ngram].values()) + len(ngram_model[ngram]) * alpha\n",
    "        word_count = ngram_model[ngram][next_word] + alpha\n",
    "\n",
    "        conditional_probability = word_count / total_count\n",
    "        probability *= conditional_probability\n",
    "\n",
    "    return probability\n",
    "\n",
    "def evaluate_model(input_sentence, ngram_model, n=3, alpha=1.0):\n",
    "    start_time = time.time()\n",
    "    probability = calculate_sentence_probability(input_sentence, ngram_model, n, alpha)\n",
    "    end_time = time.time()\n",
    "    execution_time = end_time - start_time\n",
    "    return probability, execution_time\n",
    "\n",
    "if __name__ == \"__main__\":\n",
    "    file_path = \"student_feedback_dataset.txt\"\n",
    "    corpus = load_data(file_path)\n",
    "\n",
    "    ngram_model = build_ngram_model(corpus, n=3)\n",
    "\n",
    "    input_sentence = input(\"Nhập câu để đánh giá: \")\n",
    "    probability, execution_time = evaluate_model(input_sentence, ngram_model, n=3, alpha=1.0)\n",
    "\n",
    "    # In ra kết quả\n",
    "    print(\"Xác suất của câu '{}' là: {}\".format(input_sentence, probability))\n",
    "    print(\"Thời gian thực hiện: {} giây\".format(execution_time))\n"
   ]
  },
  {
   "cell_type": "code",
   "execution_count": null,
   "metadata": {},
   "outputs": [],
   "source": []
  }
 ],
 "metadata": {
  "kernelspec": {
   "display_name": "Python 3.9.16 ('tensorflow')",
   "language": "python",
   "name": "python3"
  },
  "language_info": {
   "codemirror_mode": {
    "name": "ipython",
    "version": 3
   },
   "file_extension": ".py",
   "mimetype": "text/x-python",
   "name": "python",
   "nbconvert_exporter": "python",
   "pygments_lexer": "ipython3",
   "version": "3.9.16"
  },
  "orig_nbformat": 4,
  "vscode": {
   "interpreter": {
    "hash": "4fd4c668060f90bcaef0abab70a9153057495c494049760458fb42d2a47428be"
   }
  }
 },
 "nbformat": 4,
 "nbformat_minor": 2
}
