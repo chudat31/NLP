{
 "cells": [
  {
   "cell_type": "code",
   "execution_count": 2,
   "metadata": {},
   "outputs": [],
   "source": [
    "# from sklearn.feature_extraction.text import CountVectorizer;\n",
    "# from nltk.corpus import stopwords;\n",
    "# import spacy;"
   ]
  },
  {
   "cell_type": "code",
   "execution_count": 3,
   "metadata": {},
   "outputs": [
    {
     "name": "stdout",
     "output_type": "stream",
     "text": [
      "Xác suất của câu 'giảng dạy nhiệt tình , hướng dẫn chi tiết đến lúc sinh viên hiểu !' là: 1.599718838806978e-11\n",
      "Thời gian thực hiện: 0.0 giây\n"
     ]
    }
   ],
   "source": [
    "import re\n",
    "import collections\n",
    "import time\n",
    "\n",
    "# Đọc dữ liệu từ file và tạo corpus\n",
    "def load_data(file_path):\n",
    "    with open(file_path, 'r', encoding='utf-8') as file:\n",
    "        corpus = file.read().lower()\n",
    "    return corpus.split(\" \")\n",
    "\n",
    "# Xây dựng mô hình trigram với add-one smoothing\n",
    "def build_ngram_model(words):\n",
    "    ngram_model = collections.defaultdict(lambda: collections.defaultdict(int))\n",
    "    for i in range(len(words) - 2):\n",
    "        ngram = (words[i], words[i + 1])\n",
    "        ngram_model[ngram][words[i + 2]] += 1\n",
    "    return ngram_model\n",
    "\n",
    "# Tính xác suất của câu sử dụng mô hình trigram với add-one smoothing\n",
    "def calculate_sentence_probability(sentence, ngram_model):\n",
    "    words = sentence.lower().split(\" \")\n",
    "    probability = 1.0\n",
    "    for i in range(len(words) - 2):\n",
    "        ngram = (words[i], words[i + 1])\n",
    "        next_word = words[i + 2]\n",
    "        total_count = sum(ngram_model[ngram].values()) + len(ngram_model[ngram])\n",
    "        word_count = ngram_model[ngram][next_word] + 1\n",
    "        conditional_probability = word_count / total_count\n",
    "        probability *= conditional_probability\n",
    "    return probability\n",
    "\n",
    "# Hàm để đánh giá mô hình\n",
    "def evaluate_model(input_sentence, ngram_model):\n",
    "    start_time = time.time()\n",
    "    probability = calculate_sentence_probability(input_sentence, ngram_model)\n",
    "    execution_time = time.time() - start_time\n",
    "    return probability, execution_time\n",
    "\n",
    "# Main function\n",
    "if __name__ == \"__main__\":\n",
    "    file_path = \"student_feedback_dataset.txt\"\n",
    "    words = load_data(file_path)\n",
    "    ngram_model = build_ngram_model(words)\n",
    "\n",
    "    input_sentence = input(\"Nhập câu để đánh giá: \")\n",
    "    probability, execution_time = evaluate_model(input_sentence, ngram_model)\n",
    "\n",
    "    print(\"Xác suất của câu '{}' là: {}\".format(input_sentence, probability))\n",
    "    print(\"Thời gian thực hiện: {} giây\".format(execution_time))\n"
   ]
  },
  {
   "cell_type": "code",
   "execution_count": null,
   "metadata": {},
   "outputs": [],
   "source": []
  }
 ],
 "metadata": {
  "kernelspec": {
   "display_name": "Python 3.9.16 ('tensorflow')",
   "language": "python",
   "name": "python3"
  },
  "language_info": {
   "codemirror_mode": {
    "name": "ipython",
    "version": 3
   },
   "file_extension": ".py",
   "mimetype": "text/x-python",
   "name": "python",
   "nbconvert_exporter": "python",
   "pygments_lexer": "ipython3",
   "version": "3.9.16"
  },
  "orig_nbformat": 4,
  "vscode": {
   "interpreter": {
    "hash": "4fd4c668060f90bcaef0abab70a9153057495c494049760458fb42d2a47428be"
   }
  }
 },
 "nbformat": 4,
 "nbformat_minor": 2
}
